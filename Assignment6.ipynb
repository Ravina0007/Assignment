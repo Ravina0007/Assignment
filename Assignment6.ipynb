{
  "cells": [
    {
      "cell_type": "markdown",
      "metadata": {
        "id": "view-in-github",
        "colab_type": "text"
      },
      "source": [
        "<a href=\"https://colab.research.google.com/github/Ravina0007/Assignment/blob/main/Assignment6.ipynb\" target=\"_parent\"><img src=\"https://colab.research.google.com/assets/colab-badge.svg\" alt=\"Open In Colab\"/></a>"
      ]
    },
    {
      "cell_type": "markdown",
      "source": [
        " **Exercise 1**\n",
        "\n",
        "Consider the dataset from data_banknote_authentication.csv.\n",
        "\n",
        "0. Read data into a pandas dataframe.\n",
        "1. Pick the column named \"class\" as target variable y and all other columns as feature variables X.\n",
        "2. Split the data into training and testing sets with 80/20 ratio and random_state=20.\n",
        "3. Use support vector classifier with linear kernel to fit to the training data.\n",
        "4. Predict on the testing data and compute the confusion matrix and classification report.\n",
        "5. Repeat steps 3 and 4 for the radial basis function kernel.\n",
        "6. Compare the two SVM models in your own words."
      ],
      "metadata": {
        "id": "1gI43TlTenE8"
      },
      "id": "1gI43TlTenE8"
    },
    {
      "cell_type": "code",
      "source": [
        "import pandas as pd\n",
        "from sklearn.model_selection import train_test_split\n",
        "from sklearn.svm import SVC\n",
        "from sklearn.metrics import confusion_matrix, classification_report\n",
        "\n",
        "# Step 0: Reading Data\n",
        "data = pd.read_csv(\"data_banknote_authentication.csv\")\n",
        "\n",
        "# Step 1: Define X and y\n",
        "X = data.drop(\"class\", axis=1)\n",
        "y = data[\"class\"]\n",
        "\n",
        "# Step 2: Split Data\n",
        "X_train, X_test, y_train, y_test = train_test_split(X, y, test_size=0.2, random_state=20)\n",
        "\n",
        "# Step 3: Linear Kernel SVM\n",
        "svm_linear = SVC(kernel='linear')\n",
        "svm_linear.fit(X_train, y_train)\n",
        "\n",
        "# Step 4: Predict and Evaluate Linear Kernel SVM\n",
        "y_pred_linear = svm_linear.predict(X_test)\n",
        "conf_matrix_linear = confusion_matrix(y_test, y_pred_linear)\n",
        "class_report_linear = classification_report(y_test, y_pred_linear)\n",
        "\n",
        "print(\"Confusion Matrix (Linear Kernel):\\n\", conf_matrix_linear)\n",
        "print(\"\\nClassification Report (Linear Kernel):\\n\", class_report_linear)\n",
        "\n",
        "# Step 5: Radial Basis Function (RBF) Kernel SVM\n",
        "svm_rbf = SVC(kernel='rbf')\n",
        "svm_rbf.fit(X_train, y_train)\n",
        "\n",
        "# Step 6: Predict and Evaluate RBF Kernel SVM\n",
        "y_pred_rbf = svm_rbf.predict(X_test)\n",
        "conf_matrix_rbf = confusion_matrix(y_test, y_pred_rbf)\n",
        "class_report_rbf = classification_report(y_test, y_pred_rbf)\n",
        "\n",
        "print(\"Confusion Matrix (RBF Kernel):\\n\", conf_matrix_rbf)\n",
        "print(\"\\nClassification Report (RBF Kernel):\\n\", class_report_rbf)\n"
      ],
      "metadata": {
        "colab": {
          "base_uri": "https://localhost:8080/"
        },
        "id": "W3YOW6G6Z2yK",
        "outputId": "7d912d3f-a7dd-4f3e-9055-fc33c2428276"
      },
      "id": "W3YOW6G6Z2yK",
      "execution_count": 4,
      "outputs": [
        {
          "output_type": "stream",
          "name": "stdout",
          "text": [
            "Confusion Matrix (Linear Kernel):\n",
            " [[152   2]\n",
            " [  0 121]]\n",
            "\n",
            "Classification Report (Linear Kernel):\n",
            "               precision    recall  f1-score   support\n",
            "\n",
            "           0       1.00      0.99      0.99       154\n",
            "           1       0.98      1.00      0.99       121\n",
            "\n",
            "    accuracy                           0.99       275\n",
            "   macro avg       0.99      0.99      0.99       275\n",
            "weighted avg       0.99      0.99      0.99       275\n",
            "\n",
            "Confusion Matrix (RBF Kernel):\n",
            " [[154   0]\n",
            " [  0 121]]\n",
            "\n",
            "Classification Report (RBF Kernel):\n",
            "               precision    recall  f1-score   support\n",
            "\n",
            "           0       1.00      1.00      1.00       154\n",
            "           1       1.00      1.00      1.00       121\n",
            "\n",
            "    accuracy                           1.00       275\n",
            "   macro avg       1.00      1.00      1.00       275\n",
            "weighted avg       1.00      1.00      1.00       275\n",
            "\n"
          ]
        }
      ]
    },
    {
      "cell_type": "markdown",
      "source": [
        "**Exercise** **2**\n",
        "\n",
        "Consider the data from CSV file weight-height.csv.\n",
        "\n",
        "0. Read data into a pandas dataframe.\n",
        "1. Pick the target variable y as weight in kilograms, and the feature variable X as height in centimeters.\n",
        "2. Split the data into training and testing sets with 80/20 ratio.\n",
        "3. Scale the training and testing data using normalization and standardization.\n",
        "4. Fit a KNN regression model with k=5 to the training data without scaling, predict on unscaled testing data and compute the R2 value.\n",
        "5. Repeat step 4 for normalized data.\n",
        "6. Repeat step 4 for standardize data.\n",
        "7. Compare the models in terms of their R² value."
      ],
      "metadata": {
        "id": "p9EfWEJ0fBNX"
      },
      "id": "p9EfWEJ0fBNX"
    },
    {
      "cell_type": "code",
      "source": [
        "import pandas as pd\n",
        "from sklearn.model_selection import train_test_split\n",
        "from sklearn.preprocessing import StandardScaler, MinMaxScaler\n",
        "from sklearn.neighbors import KNeighborsRegressor\n",
        "from sklearn.metrics import r2_score\n",
        "\n",
        "# Step 0: Reading Data\n",
        "data = pd.read_csv(\"weight-height (3).csv\")\n",
        "\n",
        "# Step 1: Define X and y\n",
        "X = data[\"Height\"].values.reshape(-1, 1)  # Reshape for single feature\n",
        "y = data[\"Weight\"]\n",
        "\n",
        "# Step 2: Split Data\n",
        "X_train, X_test, y_train, y_test = train_test_split(X, y, test_size=0.2, random_state=20)\n",
        "\n",
        "# Step 3: Scaling Data\n",
        "scaler_norm = MinMaxScaler()\n",
        "scaler_std = StandardScaler()\n",
        "\n",
        "# Fit and transform training data\n",
        "X_train_norm = scaler_norm.fit_transform(X_train)\n",
        "X_train_std = scaler_std.fit_transform(X_train)\n",
        "\n",
        "# Transform testing data\n",
        "X_test_norm = scaler_norm.transform(X_test)\n",
        "X_test_std = scaler_std.transform(X_test)\n",
        "\n",
        "# Step 4: KNN Regression without Scaling\n",
        "knn_reg = KNeighborsRegressor(n_neighbors=5)\n",
        "knn_reg.fit(X_train, y_train)\n",
        "y_pred_unscaled = knn_reg.predict(X_test)\n",
        "r2_unscaled = r2_score(y_test, y_pred_unscaled)\n",
        "print(\"R² value without scaling:\", r2_unscaled)\n",
        "\n",
        "# Step 5: KNN Regression with Normalization\n",
        "knn_reg_norm = KNeighborsRegressor(n_neighbors=5)\n",
        "knn_reg_norm.fit(X_train_norm, y_train)\n",
        "y_pred_norm = knn_reg_norm.predict(X_test_norm)\n",
        "r2_norm = r2_score(y_test, y_pred_norm)\n",
        "print(\"R² value with normalization:\", r2_norm)\n",
        "\n",
        "# Step 6: KNN Regression with Standardization\n",
        "knn_reg_std = KNeighborsRegressor(n_neighbors=5)\n",
        "knn_reg_std.fit(X_train_std, y_train)\n",
        "y_pred_std = knn_reg_std.predict(X_test_std)\n",
        "r2_std = r2_score(y_test, y_pred_std)\n",
        "print(\"R² value with standardization:\", r2_std)\n"
      ],
      "metadata": {
        "colab": {
          "base_uri": "https://localhost:8080/"
        },
        "id": "wYPTT4qJaVXY",
        "outputId": "6370f6b7-beda-4fac-a0a5-81f6294c98e5"
      },
      "id": "wYPTT4qJaVXY",
      "execution_count": 6,
      "outputs": [
        {
          "output_type": "stream",
          "name": "stdout",
          "text": [
            "R² value without scaling: 0.8327437044707436\n",
            "R² value with normalization: 0.8327437044707436\n",
            "R² value with standardization: 0.8327437044707436\n"
          ]
        }
      ]
    }
  ],
  "metadata": {
    "jupytext": {
      "cell_metadata_filter": "-all",
      "main_language": "python",
      "notebook_metadata_filter": "-all"
    },
    "kernelspec": {
      "display_name": "Python 3 (ipykernel)",
      "language": "python",
      "name": "python3"
    },
    "language_info": {
      "codemirror_mode": {
        "name": "ipython",
        "version": 3
      },
      "file_extension": ".py",
      "mimetype": "text/x-python",
      "name": "python",
      "nbconvert_exporter": "python",
      "pygments_lexer": "ipython3",
      "version": "3.9.12"
    },
    "colab": {
      "provenance": [],
      "include_colab_link": true
    }
  },
  "nbformat": 4,
  "nbformat_minor": 5
}